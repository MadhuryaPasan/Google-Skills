{
 "cells": [
  {
   "cell_type": "code",
   "execution_count": null,
   "id": "06eb9593",
   "metadata": {},
   "outputs": [],
   "source": [
    "# %%capture\n",
    "# !pip install \"git+https://github.com/google-deepmind/ai-foundations.git@main\""
   ]
  },
  {
   "cell_type": "code",
   "execution_count": 2,
   "id": "a28d26f6",
   "metadata": {},
   "outputs": [],
   "source": [
    "# Packages used.\n",
    "import random # For sampling from probability distributions.\n",
    "from collections import Counter, defaultdict # For counting n-grams.\n",
    "\n",
    "import textwrap # For automatically adding linebreaks to long texts.\n",
    "import pandas as pd # For construction and visualizing tables.\n",
    "\n",
    "# Custom functions for providing feedback on your solutions.\n",
    "from ai_foundations.feedback.course_1 import ngrams"
   ]
  },
  {
   "cell_type": "markdown",
   "id": "c10af547",
   "metadata": {},
   "source": [
    "# Dataset loading and Tokenization"
   ]
  },
  {
   "cell_type": "markdown",
   "id": "64467a8f",
   "metadata": {},
   "source": [
    "## Dataset loading"
   ]
  },
  {
   "cell_type": "code",
   "execution_count": 3,
   "id": "59a1ab8c",
   "metadata": {},
   "outputs": [
    {
     "name": "stdout",
     "output_type": "stream",
     "text": [
      "The dataset consists of 232 paragraphs.\n"
     ]
    }
   ],
   "source": [
    "africa_galore = pd.read_json(\n",
    "    \"https://storage.googleapis.com/dm-educational/assets/ai_foundations/africa_galore.json\"\n",
    ") # assign the dataset\n",
    "\n",
    "dataset = africa_galore[\"description\"]\n",
    "print(f\"The dataset consists of {dataset.shape[0]} paragraphs.\")"
   ]
  },
  {
   "cell_type": "code",
   "execution_count": 4,
   "id": "15c252d9",
   "metadata": {},
   "outputs": [
    {
     "name": "stdout",
     "output_type": "stream",
     "text": [
      "The Lagos air was thick with humidity, but the energy in the club was\n",
      "electric. The band launched into a hypnotic Afrobeat groove, the drums\n",
      "pounding out a complex polyrhythm, the horns blaring a soaring melody,\n",
      "and the bass laying down a deep, funky foundation. A woman named Imani\n",
      "moved effortlessly to the music, her body swaying in time with the\n",
      "rhythm. The music seemed to flow through her, a powerful current of\n",
      "energy and joy. All around her, people were dancing, singing, and\n",
      "clapping, caught up in the infectious rhythm. The music was more than\n",
      "just entertainment; it was a celebration of life, a connection to\n",
      "their shared heritage, a vibrant expression of the soul of Lagos.\n",
      "-----\n",
      "The warm evening air in Accra was filled with the lilting melodies of\n",
      "Highlife music. At a small bar tucked away on a side street, a band\n",
      "played, the guitars weaving intricate patterns, the horns adding a\n",
      "bright, joyful counterpoint. Kwame, a man with a wistful smile, sat at\n",
      "a table nursing a beer, lost in the music. The Highlife tunes evoked\n",
      "memories of his childhood, of family gatherings, of dancing under the\n",
      "stars. The music was a soundtrack to his life, a reminder of his\n",
      "roots, a source of comfort and joy in the bustling city.\n",
      "-----\n",
      "The bustling streets of Lagos were alive with the sounds of Juju\n",
      "music. From a small radio in a market stall, the distinctive rhythms\n",
      "and vocals of King Sunny Adé poured out, drawing a crowd of listeners.\n",
      "Mama Bisi, a woman with a warm smile and a contagious laugh, tapped\n",
      "her feet to the beat as she haggled for vegetables. The music was a\n",
      "constant companion in her life, a source of energy and inspiration, a\n",
      "reminder of the rich cultural tapestry of Nigeria.\n",
      "-----\n",
      "The Dakar waterfront was buzzing with activity as the sun began to\n",
      "set. From a nearby restaurant, the vibrant sounds of Mbalax music\n",
      "spilled out, the distinctive vocals of Youssou N'Dour soaring over the\n",
      "complex percussion and the hypnotic basslines. A group of friends,\n",
      "gathered for an evening meal, swayed to the music, their faces lit up\n",
      "with smiles. The Mbalax rhythms, a blend of traditional Senegalese\n",
      "music and modern influences, created an atmosphere of celebration and\n",
      "joy, a vibrant expression of Senegalese culture.\n",
      "-----\n",
      "The Kinshasa night was alive with the infectious energy of Soukous\n",
      "music. In a crowded nightclub, the band played, the guitars weaving\n",
      "intricate melodies, the drums driving the rhythm, and the singers'\n",
      "voices urging everyone to dance. Jean-Pierre, a man with boundless\n",
      "energy, moved his feet to the beat, lost in the music. The Soukous\n",
      "rhythms, a fusion of Congolese rumba and other influences, created a\n",
      "whirlwind of movement and joy, a celebration of life and music in the\n",
      "heart of Africa.\n",
      "-----\n",
      "In a small township outside Durban, a group of men gathered in a\n",
      "community hall. They were members of an Isicathamiya choir, practicing\n",
      "their intricate harmonies and synchronized dance moves. The music,\n",
      "characterized by its a cappella vocals and close harmonies, filled the\n",
      "hall with a powerful and moving sound. For these men, Isicathamiya was\n",
      "more than just music; it was a way to express their emotions, to\n",
      "connect with their Zulu heritage, and to find solace and strength in\n",
      "the face of adversity.\n",
      "-----\n",
      "The vibrant colors and intricate patterns of Kente cloth, a symbol of\n",
      "Ghanaian royalty and prestige, tell stories of history, culture, and\n",
      "social status. Woven on narrow looms by skilled artisans, each strip\n",
      "of Kente is a testament to patience and artistry. The geometric\n",
      "designs, rich with symbolism, represent proverbs, historical events,\n",
      "and important figures. Worn during special occasions and ceremonies,\n",
      "Kente cloth embodies the spirit of Ghana, its vibrant culture, and its\n",
      "rich history. From the bright yellows and golds representing royalty\n",
      "to the deep blues and greens symbolizing spirituality, Kente is a\n",
      "visual language, a wearable expression of Ghanaian identity and\n",
      "heritage.\n",
      "-----\n",
      "Bogolanfini, or mud cloth, from Mali, is a textile steeped in\n",
      "tradition and symbolism. Its distinctive patterns, created using\n",
      "fermented mud and natural dyes, tell stories of Malian culture,\n",
      "history, and beliefs. The process of creating Bogolanfini is as rich\n",
      "and complex as the designs themselves, involving multiple stages of\n",
      "dyeing, painting, and sun-drying. Each piece is unique, reflecting the\n",
      "artistry and skill of the maker. Traditionally worn by hunters and\n",
      "warriors, Bogolanfini has become a symbol of Malian identity and a\n",
      "testament to the enduring power of indigenous art forms.\n",
      "-----\n",
      "Adire, a resist-dyed indigo cloth from Nigeria, is a vibrant\n",
      "expression of Yoruba culture and creativity. The intricate patterns,\n",
      "created using various techniques such as stitching, tying, and\n",
      "applying starch paste, represent proverbs, stories, and symbols of\n",
      "Yoruba cosmology. Adire, meaning “tied and dyed,” is a testament to\n",
      "the ingenuity and artistry of Yoruba women, who have passed down these\n",
      "techniques through generations. From the bold, geometric designs of\n",
      "Adire Eleko to the more fluid patterns of Adire Oniko, Adire cloth is\n",
      "a celebration of Yoruba artistry and a symbol of cultural pride.\n",
      "-----\n",
      "Kanga, a colorful printed cloth from East Africa, particularly\n",
      "Tanzania and Kenya, is more than just a fabric; it's a form of\n",
      "communication and social expression. Each Kanga features a central\n",
      "design surrounded by a border and a proverb or saying, often written\n",
      "in Swahili. These proverbs offer advice, commentary on social issues,\n",
      "or expressions of love and friendship. Kanga are worn by women for\n",
      "everyday wear, special occasions, and as gifts, serving as a vibrant\n",
      "symbol of East African culture and a testament to the power of\n",
      "language and visual expression.\n",
      "-----\n"
     ]
    }
   ],
   "source": [
    "for paragraph in dataset [:10]:\n",
    "    #textwrap automatically adds linebreakes\n",
    "    formatted_paragraph = textwrap.fill(paragraph)\n",
    "    print(f\"{formatted_paragraph}\")\n",
    "    print(\"-----\")"
   ]
  },
  {
   "cell_type": "markdown",
   "id": "6075812b",
   "metadata": {},
   "source": [
    "## Tokenization"
   ]
  },
  {
   "cell_type": "code",
   "execution_count": 5,
   "id": "aba51a54",
   "metadata": {},
   "outputs": [],
   "source": [
    "def space_tokenize(text: str) -> list[str]:\n",
    "    \"\"\"\n",
    "    Split the string into tokens.\n",
    "    Split on spaces.\n",
    "    \n",
    "    Args:\n",
    "        text: The input text.\n",
    "    \n",
    "    Returns:\n",
    "        A list of tokens. Returns empty list if text is empty or all spaces.\n",
    "    \"\"\"\n",
    "    tokens = text.split(\" \")\n",
    "    return tokens"
   ]
  },
  {
   "cell_type": "code",
   "execution_count": 6,
   "id": "e72c8b0c",
   "metadata": {},
   "outputs": [
    {
     "data": {
      "text/plain": [
       "['Kanga,',\n",
       " 'a',\n",
       " 'colorful',\n",
       " 'printed',\n",
       " 'cloth',\n",
       " 'is',\n",
       " 'more',\n",
       " 'than',\n",
       " 'just',\n",
       " 'a',\n",
       " 'fabric.']"
      ]
     },
     "execution_count": 6,
     "metadata": {},
     "output_type": "execute_result"
    }
   ],
   "source": [
    "space_tokenize(\"Kanga, a colorful printed cloth is more than just a fabric.\")"
   ]
  },
  {
   "cell_type": "code",
   "execution_count": 7,
   "id": "0fe23651",
   "metadata": {},
   "outputs": [
    {
     "data": {
      "text/plain": [
       "['The',\n",
       " 'Lagos',\n",
       " 'air',\n",
       " 'was',\n",
       " 'thick',\n",
       " 'with',\n",
       " 'humidity,',\n",
       " 'but',\n",
       " 'the',\n",
       " 'energy',\n",
       " 'in',\n",
       " 'the',\n",
       " 'club',\n",
       " 'was',\n",
       " 'electric.',\n",
       " 'The',\n",
       " 'band',\n",
       " 'launched',\n",
       " 'into',\n",
       " 'a',\n",
       " 'hypnotic',\n",
       " 'Afrobeat',\n",
       " 'groove,',\n",
       " 'the',\n",
       " 'drums',\n",
       " 'pounding',\n",
       " 'out',\n",
       " 'a',\n",
       " 'complex',\n",
       " 'polyrhythm,',\n",
       " 'the',\n",
       " 'horns',\n",
       " 'blaring',\n",
       " 'a',\n",
       " 'soaring',\n",
       " 'melody,',\n",
       " 'and',\n",
       " 'the',\n",
       " 'bass',\n",
       " 'laying',\n",
       " 'down',\n",
       " 'a',\n",
       " 'deep,',\n",
       " 'funky',\n",
       " 'foundation.',\n",
       " 'A',\n",
       " 'woman',\n",
       " 'named',\n",
       " 'Imani',\n",
       " 'moved',\n",
       " 'effortlessly',\n",
       " 'to',\n",
       " 'the',\n",
       " 'music,',\n",
       " 'her',\n",
       " 'body',\n",
       " 'swaying',\n",
       " 'in',\n",
       " 'time',\n",
       " 'with',\n",
       " 'the',\n",
       " 'rhythm.',\n",
       " 'The',\n",
       " 'music',\n",
       " 'seemed',\n",
       " 'to',\n",
       " 'flow',\n",
       " 'through',\n",
       " 'her,',\n",
       " 'a',\n",
       " 'powerful',\n",
       " 'current',\n",
       " 'of',\n",
       " 'energy',\n",
       " 'and',\n",
       " 'joy.',\n",
       " 'All',\n",
       " 'around',\n",
       " 'her,',\n",
       " 'people',\n",
       " 'were',\n",
       " 'dancing,',\n",
       " 'singing,',\n",
       " 'and',\n",
       " 'clapping,',\n",
       " 'caught',\n",
       " 'up',\n",
       " 'in',\n",
       " 'the',\n",
       " 'infectious',\n",
       " 'rhythm.',\n",
       " 'The',\n",
       " 'music',\n",
       " 'was',\n",
       " 'more',\n",
       " 'than',\n",
       " 'just',\n",
       " 'entertainment;',\n",
       " 'it',\n",
       " 'was',\n",
       " 'a',\n",
       " 'celebration',\n",
       " 'of',\n",
       " 'life,',\n",
       " 'a',\n",
       " 'connection',\n",
       " 'to',\n",
       " 'their',\n",
       " 'shared',\n",
       " 'heritage,',\n",
       " 'a',\n",
       " 'vibrant',\n",
       " 'expression',\n",
       " 'of',\n",
       " 'the',\n",
       " 'soul',\n",
       " 'of',\n",
       " 'Lagos.']"
      ]
     },
     "execution_count": 7,
     "metadata": {},
     "output_type": "execute_result"
    }
   ],
   "source": [
    "space_tokenize(dataset[0])"
   ]
  },
  {
   "cell_type": "markdown",
   "id": "a7d7f414",
   "metadata": {},
   "source": [
    "## `Coding Activity 1`"
   ]
  },
  {
   "cell_type": "code",
   "execution_count": 26,
   "id": "3bdb8ccd",
   "metadata": {},
   "outputs": [
    {
     "name": "stdout",
     "output_type": "stream",
     "text": [
      "First 10 Unigrams: [('The',), ('Lagos',), ('air',), ('was',), ('thick',), ('with',), ('humidity,',), ('but',), ('the',), ('energy',)]\n",
      "First 10 Bigrams: [('The', 'Lagos'), ('Lagos', 'air'), ('air', 'was'), ('was', 'thick'), ('thick', 'with'), ('with', 'humidity,'), ('humidity,', 'but'), ('but', 'the'), ('the', 'energy'), ('energy', 'in')]\n",
      "First 10 Trigrams: [('The', 'Lagos', 'air'), ('Lagos', 'air', 'was'), ('air', 'was', 'thick'), ('was', 'thick', 'with'), ('thick', 'with', 'humidity,'), ('with', 'humidity,', 'but'), ('humidity,', 'but', 'the'), ('but', 'the', 'energy'), ('the', 'energy', 'in'), ('energy', 'in', 'the')]\n"
     ]
    }
   ],
   "source": [
    "all_unigrams = []\n",
    "all_bigrams = []\n",
    "all_trigrams = []\n",
    "\n",
    "\n",
    "def generate_ngrams(text: str, n: int) -> list[tuple[str]]:\n",
    "    \"\"\"Generates n-grams from a given text.\n",
    "\n",
    "    Args:\n",
    "        text: The input text string.\n",
    "        n: The size of the n-grams (e.g., 2 for bigrams, 3 for trigrams).\n",
    "\n",
    "    Returns:\n",
    "        A list of n-grams, each represented as a list of tokens.\n",
    "    \"\"\"\n",
    "\n",
    "    # Tokenize text.\n",
    "    tokens = space_tokenize(text)\n",
    "\n",
    "    # Construct the list of n-grams.\n",
    "    ngrams = []\n",
    "\n",
    "    # Add your code here.\n",
    "    num_of_tokens = len(tokens)\n",
    "\n",
    "    for i in range(0, num_of_tokens - n + 1):\n",
    "        ngrams.append(tuple(tokens[i : i + n]))\n",
    "\n",
    "    return ngrams\n",
    "\n",
    "\n",
    "for paragraph in dataset:\n",
    "    # Calling `generate_ngrams` with n=1 constructs a list of unigrams.\n",
    "    all_unigrams.extend(generate_ngrams(paragraph, n=1))\n",
    "    # Calling `generate_ngrams` with n=2 constructs a list of bigrams (2-grams).\n",
    "    all_bigrams.extend(generate_ngrams(paragraph, n=2))\n",
    "    # Calling `generate_ngrams` with n=2 constructs a list of trigram (3-grams).\n",
    "    all_trigrams.extend(generate_ngrams(paragraph, n=3))\n",
    "\n",
    "print(\"First 10 Unigrams:\", all_unigrams[:10])\n",
    "print(\"First 10 Bigrams:\", all_bigrams[:10])\n",
    "print(\"First 10 Trigrams:\", all_trigrams[:10])\n"
   ]
  },
  {
   "cell_type": "code",
   "execution_count": null,
   "id": "f62678c6",
   "metadata": {},
   "outputs": [],
   "source": []
  },
  {
   "cell_type": "code",
   "execution_count": 30,
   "id": "6487b318",
   "metadata": {},
   "outputs": [
    {
     "data": {
      "text/plain": [
       "Counter({'red': 2, 'blue': 3, 'green': 1})"
      ]
     },
     "execution_count": 30,
     "metadata": {},
     "output_type": "execute_result"
    }
   ],
   "source": [
    "# counder objects examples\n",
    "\n",
    "counter = Counter()\n",
    "for word in ['red','blue','red','green','blue','blue']:\n",
    "    counter[word] +=1\n",
    "    \n",
    "counter"
   ]
  },
  {
   "cell_type": "code",
   "execution_count": null,
   "id": "b19d84ad",
   "metadata": {},
   "outputs": [],
   "source": []
  }
 ],
 "metadata": {
  "kernelspec": {
   "display_name": "venv_TensorFlow_cpu_2 (3.12.10)",
   "language": "python",
   "name": "python3"
  },
  "language_info": {
   "codemirror_mode": {
    "name": "ipython",
    "version": 3
   },
   "file_extension": ".py",
   "mimetype": "text/x-python",
   "name": "python",
   "nbconvert_exporter": "python",
   "pygments_lexer": "ipython3",
   "version": "3.12.10"
  }
 },
 "nbformat": 4,
 "nbformat_minor": 5
}
