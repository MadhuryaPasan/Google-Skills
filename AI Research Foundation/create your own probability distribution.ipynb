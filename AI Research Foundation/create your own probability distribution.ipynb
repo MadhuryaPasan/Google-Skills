{
  "cells": [
    {
      "cell_type": "markdown",
      "metadata": {
        "colab_type": "text",
        "id": "view-in-github"
      },
      "source": [
        "<a href=\"https://colab.research.google.com/github/MadhuryaPasan/Google-Skills/blob/main/AI%20Research%20Foundation/create%20your%20own%20probability%20distribution.ipynb\" target=\"_parent\"><img src=\"https://colab.research.google.com/assets/colab-badge.svg\" alt=\"Open In Colab\"/></a>"
      ]
    },
    {
      "cell_type": "code",
      "execution_count": 2,
      "id": "8ab3ab54",
      "metadata": {
        "colab": {
          "base_uri": "https://localhost:8080/"
        },
        "id": "8ab3ab54",
        "outputId": "8764d8f7-94cc-4cb9-996d-c999ba3f7e2a"
      },
      "outputs": [
        {
          "name": "stdout",
          "output_type": "stream",
          "text": [
            "Today is Saturday\n"
          ]
        }
      ],
      "source": [
        "from datetime import datetime\n",
        "\n",
        "print(f\"Today is {datetime.today():%A}\")"
      ]
    },
    {
      "cell_type": "code",
      "execution_count": 3,
      "id": "2d64e3d1",
      "metadata": {
        "id": "2d64e3d1"
      },
      "outputs": [],
      "source": [
        "%%capture\n",
        "# Install the custom package for this course.\n",
        "# !pip install \"git+https://github.com/google-deepmind/ai-foundations.git@main\"\n",
        "\n",
        "# Packages used.\n",
        "# For randomly picking elements from a probability distribution.\n",
        "import random\n",
        "# Custom functions for providing feedback on your solutions.\n",
        "from ai_foundations.feedback.course_1 import probabilities\n",
        "\n"
      ]
    },
    {
      "cell_type": "markdown",
      "id": "kK8i74yxSxJF",
      "metadata": {
        "id": "kK8i74yxSxJF"
      },
      "source": [
        "#Assigning probabilities"
      ]
    },
    {
      "cell_type": "code",
      "execution_count": 4,
      "id": "c235516f",
      "metadata": {
        "colab": {
          "base_uri": "https://localhost:8080/"
        },
        "id": "c235516f",
        "outputId": "29854d15-2187-44d8-deca-c005fb091b00"
      },
      "outputs": [
        {
          "name": "stdout",
          "output_type": "stream",
          "text": [
            "✅ You've set the probabilities successfully. Well done!\n"
          ]
        }
      ],
      "source": [
        "candidate_word = [\"star\",\"beef\",\"bottle\"]\n",
        "\n",
        "# the probabilities for each word\n",
        "your_mental_model = [0.99, 0.001 , 0.009]\n",
        "\n",
        "probabilities.test_probabilities(candidate_word, your_mental_model)\n"
      ]
    },
    {
      "cell_type": "code",
      "execution_count": 20,
      "id": "WjqUKjELTZzw",
      "metadata": {
        "colab": {
          "base_uri": "https://localhost:8080/"
        },
        "id": "WjqUKjELTZzw",
        "outputId": "ea0878fb-f2f8-46be-f104-5a15db1781f3"
      },
      "outputs": [
        {
          "name": "stdout",
          "output_type": "stream",
          "text": [
            "Twinkle twinkle little star\n"
          ]
        }
      ],
      "source": [
        "chosen_word = random.choices(candidate_word, weights=your_mental_model) # going to select the word that has most probability\n",
        "\n",
        "print(f\"Twinkle twinkle little {chosen_word[0]}\")"
      ]
    },
    {
      "cell_type": "markdown",
      "id": "MhwvHN7RVof9",
      "metadata": {
        "id": "MhwvHN7RVof9"
      },
      "source": [
        "##Cosing Activity 1\n",
        "\n",
        ">Prompt : Jide was hungry so she went looking for"
      ]
    },
    {
      "cell_type": "code",
      "execution_count": 33,
      "id": "uKhHTXkLUyzE",
      "metadata": {
        "colab": {
          "base_uri": "https://localhost:8080/"
        },
        "id": "uKhHTXkLUyzE",
        "outputId": "eaf03886-9790-474b-f55a-8c13c50e100b"
      },
      "outputs": [
        {
          "name": "stdout",
          "output_type": "stream",
          "text": [
            "✅ You've set the probabilities successfully. Well done!\n"
          ]
        }
      ],
      "source": [
        "candidate_words = [\n",
        "    \"food\",\n",
        "    \"snacks\",\n",
        "    \"leftovers\",\n",
        "    \"her\",\n",
        "    \"for\",\n",
        "    \"water\",\n",
        "    \"photosynthesis\",\n",
        "    \"pyramid\",\n",
        "]\n",
        "\n",
        "your_mental_model=[0.50,0.40,0.03,0.02,0.002,0.04,0.004,0.004]\n",
        "\n",
        "probabilities.test_probabilities(candidate_words, your_mental_model)\n"
      ]
    },
    {
      "cell_type": "code",
      "execution_count": 60,
      "id": "pE5aKViRU49C",
      "metadata": {
        "colab": {
          "base_uri": "https://localhost:8080/"
        },
        "id": "pE5aKViRU49C",
        "outputId": "e8023791-db19-4a97-92b3-5049b9b31528"
      },
      "outputs": [
        {
          "name": "stdout",
          "output_type": "stream",
          "text": [
            "Jide was hungry so she went lokking for food\n"
          ]
        }
      ],
      "source": [
        "chosen_word = random.choices(candidate_words, weights=your_mental_model)\n",
        "print(f\"Jide was hungry so she went lokking for {chosen_word[0]}\")"
      ]
    },
    {
      "cell_type": "code",
      "execution_count": 35,
      "id": "f3h-Tt-EXy-C",
      "metadata": {
        "id": "f3h-Tt-EXy-C"
      },
      "outputs": [],
      "source": []
    },
    {
      "cell_type": "markdown",
      "id": "XVSlCZGdYSEM",
      "metadata": {
        "id": "XVSlCZGdYSEM"
      },
      "source": [
        "##Coding Activity 2\n",
        "\n",
        ">Prompt : Jide was thirsty so she went looking for"
      ]
    },
    {
      "cell_type": "code",
      "execution_count": 63,
      "id": "ERJ9r4r8YO6R",
      "metadata": {
        "colab": {
          "base_uri": "https://localhost:8080/"
        },
        "id": "ERJ9r4r8YO6R",
        "outputId": "2838964f-8ba2-4fc6-fa2a-20d291dc9db4"
      },
      "outputs": [
        {
          "name": "stdout",
          "output_type": "stream",
          "text": [
            "✅ You've set the probabilities successfully. Well done!\n"
          ]
        }
      ],
      "source": [
        "candidate_words = [\n",
        "    \"food\",\n",
        "    \"snacks\",\n",
        "    \"leftovers\",\n",
        "    \"her\",\n",
        "    \"for\",\n",
        "    \"water\",\n",
        "    \"photosynthesis\",\n",
        "    \"pyramid\",\n",
        "]\n",
        "\n",
        "\n",
        "your_mental_model=[0.005,0.001,0.001,0.10,0.001,0.89,0.001,0.001]\n",
        "probabilities.test_probabilities(candidate_words, your_mental_model)"
      ]
    },
    {
      "cell_type": "code",
      "execution_count": 69,
      "id": "HhIsvhbAYQ4Q",
      "metadata": {
        "colab": {
          "base_uri": "https://localhost:8080/"
        },
        "id": "HhIsvhbAYQ4Q",
        "outputId": "596410a3-c53f-43fe-e085-ed8150dd7744"
      },
      "outputs": [
        {
          "name": "stdout",
          "output_type": "stream",
          "text": [
            "Jide was thirsty so she went looking for water\n"
          ]
        }
      ],
      "source": [
        "chosen_word = random.choices(candidate_words, weights=your_mental_model)\n",
        "print(f\"Jide was thirsty so she went looking for {chosen_word[0]}\")"
      ]
    },
    {
      "cell_type": "code",
      "execution_count": null,
      "id": "qkNYhFVdZsoQ",
      "metadata": {
        "id": "qkNYhFVdZsoQ"
      },
      "outputs": [],
      "source": []
    }
  ],
  "metadata": {
    "colab": {
      "include_colab_link": true,
      "provenance": []
    },
    "kernelspec": {
      "display_name": "venv_TensorFlow_cpu_2 (3.12.10)",
      "language": "python",
      "name": "python3"
    },
    "language_info": {
      "codemirror_mode": {
        "name": "ipython",
        "version": 3
      },
      "file_extension": ".py",
      "mimetype": "text/x-python",
      "name": "python",
      "nbconvert_exporter": "python",
      "pygments_lexer": "ipython3",
      "version": "3.12.10"
    }
  },
  "nbformat": 4,
  "nbformat_minor": 5
}
